{
 "cells": [
  {
   "cell_type": "code",
   "execution_count": 7,
   "id": "5cee3ed2",
   "metadata": {},
   "outputs": [
    {
     "name": "stdout",
     "output_type": "stream",
     "text": [
      "bangalore \n",
      " [['Project Name: Adarsh Palm Retreat Mayberry', 'BHK Type: 2 BHK, 3 BHK', 'Price(Lacs): 80,106'], ['Project Name: Kolte Patil Raaga', 'BHK Type: 2 BHK, 3 BHK', 'Price(Lacs): 55,64'], ['Project Name: L&T Rain Tree Boulevard', 'BHK Type: 2 BHK, 3 BHK', 'Price(Lacs): 106,129,188'], ['Project Name: Ozone Urbana Prime', 'BHK Type: 2 BHK, 3 BHK', 'Price(Lacs): 55,69,144'], ['Project Name: Ozone Pole Star', 'BHK Type: 2 BHK, 3 BHK', 'Price(Lacs): 108,140'], ['Project Name: Prestige Park Square', 'BHK Type: 2 BHK, 3 BHK', 'Price(Lacs): 82,100'], ['Project Name: Prestige Song of South', 'BHK Type: 2 BHK, 3 BHK', 'Price(Lacs): 80,108'], ['Project Name: Prestige Elysian', 'BHK Type: 2 BHK, 3 BHK', 'Price(Lacs): 88,106'], ['Project Name: Pride Pegasus', 'BHK Type: 2 BHK, 3 BHK', 'Price(Lacs): 78,106'], ['Project Name: Pride Enchanta Phase 2', 'BHK Type: 2 BHK, 3 BHK', 'Price(Lacs): 89,115'], ['Project Name: Provident Equinox', 'BHK Type: 2 BHK, 3 BHK', 'Price(Lacs): 50,60'], ['Project Name: Provident The Tree', 'BHK Type: 2 BHK, 3 BHK', 'Price(Lacs): 51,68'], ['Project Name: Purva Palm Beach', 'BHK Type: 2 BHK, 3 BHK', 'Price(Lacs): 94,125'], ['Project Name: Purva Zenium', 'BHK Type: 2 BHK, 3 BHK', 'Price(Lacs): 78,94'], ['Project Name: Purva Atmosphere', 'BHK Type: 2 BHK, 3 BHK', 'Price(Lacs): 117,146,217'], ['Project Name: Salarpuria Opus', 'BHK Type: 2 BHK, 3 BHK', 'Price(Lacs): 88,111']]\n",
      "mumbai \n",
      " [['Project Name: Vasant Oasis', 'BHK Type: 2BHK,3BHK', 'Price(Lacs): 185,240'], ['Project Name: Piramal Vaikunth', 'BHK Type: 2BHK,3BHK', 'Price(Lacs): 265,300'], ['Project Name: Sunteck City', 'BHK Type: 2BHK,3BHK', 'Price(Lacs): 180,260'], ['Project Name: TW Gardens', 'BHK Type: 2BHK,3BHK', 'Price(Lacs): 183,240'], ['Project Name: Rustomjee Urbania', 'BHK Type: 2BHK,3BHK', 'Price(Lacs): 215'], ['Project Name: Hiranandani Fortune City', 'BHK Type: 2BHK,3BHK', 'Price(Lacs): 123,190'], ['Project Name: Balaji Symphony', 'BHK Type: 2BHK,3BHK', 'Price(Lacs): 83,108'], ['Project Name: The Highlands Godrej City', 'BHK Type: 2BHK,3BHK', 'Price(Lacs): 90,146'], ['Project Name: Godrej Emerald', 'BHK Type: 2BHK,3BHK', 'Price(Lacs): 120,150'], ['Project Name: Dev Ashoka', 'BHK Type: 2BHK,3BHK', 'Price(Lacs): 132,182'], ['Project Name: Courtyard', 'BHK Type: 2BHK,3BHK', 'Price(Lacs): 129,308']]\n",
      "gurgaon \n",
      " [['Project Name: Godrej Nature Plus', 'BHK Type: 2BHK,3BHK', 'Price(Lacs): 107,170'], ['Project Name: Godrej Serenity', 'BHK Type: 2BHK,3BHK', 'Price(Lacs): 89,94,115 - 150'], ['Project Name: Emaar Digi Homes', 'BHK Type: 2BHK,3BHK', 'Price(Lacs): 170,280'], ['Project Name: FLower Valley Flamingo Floors', 'BHK Type: 2BHK,3BHK', 'Price(Lacs): 88,96'], ['Project Name: FLower Valley Flamingo Floors', 'BHK Type: 2BHK,3BHK', 'Price(Lacs): 85,95'], ['Project Name: Tata La Vida', 'BHK Type: 2BHK,3BHK', 'Price(Lacs): 115,145,149'], ['Project Name: Godrej Serenity', 'BHK Type: 2BHK,3BHK', 'Price(Lacs): 76,80,101-137'], ['Project Name: Shapoorji Pallonji Joyville', 'BHK Type: 2BHK,3BHK', 'Price(Lacs): 74.75 - 96.30,133 -144'], ['Project Name: Eldeco Live by the Green', 'BHK Type: 2BHK,3BHK', 'Price(Lacs): 67,81'], ['Project Name: Signature Global Park 4 & 5', 'BHK Type: 2BHK,3BHK', 'Price(Lacs): 45,64'], ['Project Name: Signature Global Sector 37D', 'BHK Type: 2BHK,3BHK', 'Price(Lacs): 62,78'], ['Project Name: Signature Global Sector 92', 'BHK Type: 2BHK,3BHK', 'Price(Lacs): 61,69'], ['Project Name: Waterfall Residences', 'BHK Type: 2BHK,3BHK', 'Price(Lacs): 165,2.05 -2.75'], ['Project Name: Signature Global City 81', 'BHK Type: 2BHK,3BHK', 'Price(Lacs): 65-70,74.5-80']]\n",
      "chennai \n",
      " [['Project Name: Urbanrise Codename Gold Standard', 'BHK Type: 2 BHK,3 BHK', 'Price(Lacs): 29,34'], ['Project Name: Manhattan Condos', 'BHK Type: 2 BHK,3 BHK,', 'Price(Lacs): 29,40'], ['Project Name: Alliance Bougainvillea', 'BHK Type: 2 BHK,3 BHK,', 'Price(Lacs): 220'], ['Project Name: Casagrand Bloom', 'BHK Type: 2 BHK,3 BHK', 'Price(Lacs): 73'], ['Project Name: Casagrand ECR 14', 'BHK Type: 2 BHK,3 BHK', 'Price(Lacs): 77,81'], ['Project Name: Casagrand Crescendo', 'BHK Type: 2 BHK,3 BHK', 'Price(Lacs): 40,93'], ['Project Name: Casagrand Castle', 'BHK Type: 2 BHK,3 BHK', 'Price(Lacs): 94'], ['Project Name: Casagrand Northern Star', 'BHK Type: 2 BHK,3 BHK', 'Price(Lacs): 89'], ['Project Name: Casagrand Zenith', 'BHK Type: 2 BHK,3 BHK', 'Price(Lacs): 45,70'], ['Project Name: Casagrand Savoye', 'BHK Type: 2 BHK,3 BHK', 'Price(Lacs): 79'], ['Project Name: Casagrand Asta', 'BHK Type: 2 BHK,3 BHK', 'Price(Lacs): 98'], ['Project Name: Casagrand Olympus', 'BHK Type: 2 BHK,3 BHK', 'Price(Lacs): 331'], ['Project Name: Casagrand Westend', 'BHK Type: 2 BHK,3 BHK', 'Price(Lacs): 28,32'], ['Project Name: Akshaya Today', 'BHK Type: 2 BHK,3 BHK', 'Price(Lacs): 38,47'], ['Project Name: Akshaya Orlando', 'BHK Type: 2 BHK,3 BHK', 'Price(Lacs): 38,48'], ['Project Name: Akshaya Twin D', 'BHK Type: 2 BHK,3 BHK', 'Price(Lacs): 37,48'], ['Project Name: Akshaya Tango', 'BHK Type: 2 BHK,3 BHK', 'Price(Lacs): 103136'], ['Project Name: Akshaya Republic', 'BHK Type: 2 BHK,3 BHK,', 'Price(Lacs): 57,84.85'], ['Project Name: KG Earth Homes Phase II', 'BHK Type: 2 BHK,3 BHK', 'Price(Lacs): 44,55'], ['Project Name: KG SIGNATURE CITY PHASE II', 'BHK Type: 2 BHK,3 BHK', 'Price(Lacs): 97'], ['Project Name: KG DOGRA GARDENS', 'BHK Type: 2 BHK,3 BHK', 'Price(Lacs): 207'], ['Project Name: Radiance Elite', 'BHK Type: 2 BHK,3 BHK', 'Price(Lacs): 284'], ['Project Name: Radiance Suprema', 'BHK Type: 2 BHK,3 BHK', 'Price(Lacs): 58.53,65.84'], ['Project Name: Radiance Sapphire', 'BHK Type: 2 BHK,3 BHK', 'Price(Lacs): 67,80']]\n"
     ]
    }
   ],
   "source": [
    "import requests\n",
    "import bs4\n",
    "list_of_res=['bangalore','mumbai','gurgaon','chennai']\n",
    "\n",
    "for re in list_of_res:\n",
    "    bhk_mumbai=[]\n",
    "    mumbai=[]\n",
    "    url='https://www.nobroker.in/prophub/new-builder-projects/new-builder-projects-in-'+re\n",
    "    res = requests.get(url=url)\n",
    "    \n",
    "    soup = bs4.BeautifulSoup(res.content, 'html.parser')\n",
    "    for j in soup.find_all('ul'):\n",
    "      bhk_mumbai.append(j.li.text.strip())\n",
    "      for k in j.find_all('li',style=\"    padding-top: 8px;\"):\n",
    "        bhk_mumbai.append(k.text.strip())\n",
    "        \n",
    "    for i in range(0, len(bhk_mumbai),3):\n",
    "      l2=[]\n",
    "      for j in range(i,i+3):\n",
    "        l2.append(bhk_mumbai[j])\n",
    "      if '2BHK' in l2[1] and '3BHK' in l2[1] and '1BHK' not in l2[1] and '4BHK' not in l2[1]:\n",
    "        mumbai.append(l2)\n",
    "      elif '2 BHK' in l2[1] and '3 BHK' in l2[1] and '1 BHK' not in l2[1] and '4 BHK' not in l2[1]:\n",
    "        mumbai.append(l2)  \n",
    "    \n",
    "    print(re,\"\\n\",mumbai)"
   ]
  },
  {
   "cell_type": "code",
   "execution_count": null,
   "id": "048073b2",
   "metadata": {},
   "outputs": [],
   "source": []
  },
  {
   "cell_type": "code",
   "execution_count": null,
   "id": "5f09d451",
   "metadata": {},
   "outputs": [],
   "source": []
  }
 ],
 "metadata": {
  "kernelspec": {
   "display_name": "Python 3",
   "language": "python",
   "name": "python3"
  },
  "language_info": {
   "codemirror_mode": {
    "name": "ipython",
    "version": 3
   },
   "file_extension": ".py",
   "mimetype": "text/x-python",
   "name": "python",
   "nbconvert_exporter": "python",
   "pygments_lexer": "ipython3",
   "version": "3.8.8"
  }
 },
 "nbformat": 4,
 "nbformat_minor": 5
}
